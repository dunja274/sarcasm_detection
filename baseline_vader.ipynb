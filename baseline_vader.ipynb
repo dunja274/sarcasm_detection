{
 "metadata": {
  "language_info": {
   "codemirror_mode": {
    "name": "ipython",
    "version": 3
   },
   "file_extension": ".py",
   "mimetype": "text/x-python",
   "name": "python",
   "nbconvert_exporter": "python",
   "pygments_lexer": "ipython3",
   "version": "3.8.5-final"
  },
  "orig_nbformat": 2,
  "kernelspec": {
   "name": "python3",
   "display_name": "Python 3.8.5 64-bit (conda)",
   "metadata": {
    "interpreter": {
     "hash": "f4a3b64f4030d09b920c9351b19386564e391b4b6c3fe510cff2919ed5842dc5"
    }
   }
  }
 },
 "nbformat": 4,
 "nbformat_minor": 2,
 "cells": [
  {
   "cell_type": "code",
   "execution_count": 1,
   "metadata": {},
   "outputs": [],
   "source": [
    "from nltk.sentiment.vader import SentimentIntensityAnalyzer\n",
    "\n",
    "import nltk\n",
    "from nltk.tokenize import sent_tokenize, word_tokenize\n",
    "import warnings\n",
    "\n",
    "warnings.filterwarnings(action = 'ignore')\n",
    "\n",
    "import re\n",
    "import ast\n",
    "import pandas as pd\n",
    "import numpy as np\n",
    "\n",
    "from sklearn.model_selection import train_test_split\n",
    "\n",
    "\n"
   ]
  },
  {
   "cell_type": "code",
   "execution_count": 2,
   "metadata": {},
   "outputs": [
    {
     "output_type": "execute_result",
     "data": {
      "text/plain": [
       "            label                                           response  \\\n",
       "0         SARCASM  @USER @USER @USER I don't get this .. obviousl...   \n",
       "1         SARCASM  @USER @USER trying to protest about . Talking ...   \n",
       "2         SARCASM  @USER @USER @USER He makes an insane about of ...   \n",
       "3         SARCASM  @USER @USER Meanwhile Trump won't even release...   \n",
       "4         SARCASM  @USER @USER Pretty Sure the Anti-Lincoln Crowd...   \n",
       "...           ...                                                ...   \n",
       "4995  NOT_SARCASM  @USER You don't . I have purchased a lot on Am...   \n",
       "4996  NOT_SARCASM  @USER #Emotions you say 🤔 never knew that I th...   \n",
       "4997  NOT_SARCASM  @USER @USER @USER You are so right ... \" Yes !...   \n",
       "4998  NOT_SARCASM  @USER @USER @USER Another lazy delusional vote...   \n",
       "4999  NOT_SARCASM  @USER @USER I hope you know no news outlet fro...   \n",
       "\n",
       "                                                context  \n",
       "0     [A minor child deserves privacy and should be ...  \n",
       "1     [@USER @USER Why is he a loser ? He's just a P...  \n",
       "2     [Donald J . Trump is guilty as charged . The e...  \n",
       "3     [Jamie Raskin tanked Doug Collins . Collins lo...  \n",
       "4     [Man ... y ’ all gone “ both sides ” the apoca...  \n",
       "...                                                 ...  \n",
       "4995  [@USER Apologies for the inconvenience you fac...  \n",
       "4996  [@USER 🤔 idk tho , I think I ’ m #hungry . But...  \n",
       "4997  [@USER @USER @USER Peace to you , and two coun...  \n",
       "4998  [Bernie Sanders told Elizabeth Warren in priva...  \n",
       "4999  [PDP PROTEST BRAINSTORMING SESSION Deji : We n...  \n",
       "\n",
       "[5000 rows x 3 columns]"
      ],
      "text/html": "<div>\n<style scoped>\n    .dataframe tbody tr th:only-of-type {\n        vertical-align: middle;\n    }\n\n    .dataframe tbody tr th {\n        vertical-align: top;\n    }\n\n    .dataframe thead th {\n        text-align: right;\n    }\n</style>\n<table border=\"1\" class=\"dataframe\">\n  <thead>\n    <tr style=\"text-align: right;\">\n      <th></th>\n      <th>label</th>\n      <th>response</th>\n      <th>context</th>\n    </tr>\n  </thead>\n  <tbody>\n    <tr>\n      <th>0</th>\n      <td>SARCASM</td>\n      <td>@USER @USER @USER I don't get this .. obviousl...</td>\n      <td>[A minor child deserves privacy and should be ...</td>\n    </tr>\n    <tr>\n      <th>1</th>\n      <td>SARCASM</td>\n      <td>@USER @USER trying to protest about . Talking ...</td>\n      <td>[@USER @USER Why is he a loser ? He's just a P...</td>\n    </tr>\n    <tr>\n      <th>2</th>\n      <td>SARCASM</td>\n      <td>@USER @USER @USER He makes an insane about of ...</td>\n      <td>[Donald J . Trump is guilty as charged . The e...</td>\n    </tr>\n    <tr>\n      <th>3</th>\n      <td>SARCASM</td>\n      <td>@USER @USER Meanwhile Trump won't even release...</td>\n      <td>[Jamie Raskin tanked Doug Collins . Collins lo...</td>\n    </tr>\n    <tr>\n      <th>4</th>\n      <td>SARCASM</td>\n      <td>@USER @USER Pretty Sure the Anti-Lincoln Crowd...</td>\n      <td>[Man ... y ’ all gone “ both sides ” the apoca...</td>\n    </tr>\n    <tr>\n      <th>...</th>\n      <td>...</td>\n      <td>...</td>\n      <td>...</td>\n    </tr>\n    <tr>\n      <th>4995</th>\n      <td>NOT_SARCASM</td>\n      <td>@USER You don't . I have purchased a lot on Am...</td>\n      <td>[@USER Apologies for the inconvenience you fac...</td>\n    </tr>\n    <tr>\n      <th>4996</th>\n      <td>NOT_SARCASM</td>\n      <td>@USER #Emotions you say 🤔 never knew that I th...</td>\n      <td>[@USER 🤔 idk tho , I think I ’ m #hungry . But...</td>\n    </tr>\n    <tr>\n      <th>4997</th>\n      <td>NOT_SARCASM</td>\n      <td>@USER @USER @USER You are so right ... \" Yes !...</td>\n      <td>[@USER @USER @USER Peace to you , and two coun...</td>\n    </tr>\n    <tr>\n      <th>4998</th>\n      <td>NOT_SARCASM</td>\n      <td>@USER @USER @USER Another lazy delusional vote...</td>\n      <td>[Bernie Sanders told Elizabeth Warren in priva...</td>\n    </tr>\n    <tr>\n      <th>4999</th>\n      <td>NOT_SARCASM</td>\n      <td>@USER @USER I hope you know no news outlet fro...</td>\n      <td>[PDP PROTEST BRAINSTORMING SESSION Deji : We n...</td>\n    </tr>\n  </tbody>\n</table>\n<p>5000 rows × 3 columns</p>\n</div>"
     },
     "metadata": {},
     "execution_count": 2
    }
   ],
   "source": [
    "twitter = pd.read_json(\"sarcasm_detection_shared_task_twitter_training.jsonl\", lines=True)\n",
    "twitter"
   ]
  },
  {
   "cell_type": "code",
   "execution_count": 19,
   "metadata": {},
   "outputs": [
    {
     "output_type": "stream",
     "name": "stdout",
     "text": [
      "5000\n"
     ]
    }
   ],
   "source": [
    "input_labels = [ 1 if x=='SARCASM' else 0 for x in twitter.label ]\n",
    "print(len(input_labels))"
   ]
  },
  {
   "cell_type": "code",
   "execution_count": 20,
   "metadata": {
    "tags": []
   },
   "outputs": [],
   "source": [
    "def input_sentiments(response, context):\n",
    "    inputs = []\n",
    "    analyzer = SentimentIntensityAnalyzer()\n",
    "    for sentence,c in zip(response, context):\n",
    "        vs = analyzer.polarity_scores(sentence)\n",
    "        vs2 = analyzer.polarity_scores(c[-1])\n",
    "        inputs.append(vs['compound']-vs2['compound'])\n",
    "    return inputs\n"
   ]
  },
  {
   "cell_type": "code",
   "execution_count": 21,
   "metadata": {},
   "outputs": [],
   "source": [
    "inputs = input_sentiments(twitter.response,twitter.context)"
   ]
  },
  {
   "cell_type": "code",
   "execution_count": 22,
   "metadata": {},
   "outputs": [
    {
     "output_type": "execute_result",
     "data": {
      "text/plain": [
       "            label                                            context  \\\n",
       "0     NOT_SARCASM  [Well now that ’ s problematic AF <URL>, @USER...   \n",
       "1         SARCASM  [Last week the Fake News said that a section o...   \n",
       "2         SARCASM  [@USER Let ’ s Aplaud Brett When he deserves i...   \n",
       "3     NOT_SARCASM  [Women generally hate this president . What's ...   \n",
       "4     NOT_SARCASM  [Dear media Remoaners , you excitedly sharing ...   \n",
       "...           ...                                                ...   \n",
       "1795  NOT_SARCASM  [I have been a business customer of MWeb @USER...   \n",
       "1796      SARCASM  [A woman refuses to have her temperature taken...   \n",
       "1797      SARCASM  [The reason big government wants @USER out is ...   \n",
       "1798  NOT_SARCASM  [Happy #musicmonday and #thanks for #all your ...   \n",
       "1799  NOT_SARCASM  [Not long wrapped on the amazing #January22nd ...   \n",
       "\n",
       "                                               response            id  \n",
       "0     @USER @USER @USER My 3 year old , that just fi...     twitter_1  \n",
       "1     @USER @USER How many verifiable lies has he to...     twitter_2  \n",
       "2     @USER @USER @USER Maybe Docs just a scrub of a...     twitter_3  \n",
       "3     @USER @USER is just a cover up for the real ha...     twitter_4  \n",
       "4     @USER @USER @USER The irony being that he even...     twitter_5  \n",
       "...                                                 ...           ...  \n",
       "1795  @USER @USER @USER is definitely the best out t...  twitter_1796  \n",
       "1796  @USER @USER Ye let her out run wild and infect...  twitter_1797  \n",
       "1797  @USER @USER @USER Thanks for that , I would ha...  twitter_1798  \n",
       "1798  @USER @USER @USER Yes also #found this on #new...  twitter_1799  \n",
       "1799  @USER @USER @USER you still need to send the l...  twitter_1800  \n",
       "\n",
       "[1800 rows x 4 columns]"
      ],
      "text/html": "<div>\n<style scoped>\n    .dataframe tbody tr th:only-of-type {\n        vertical-align: middle;\n    }\n\n    .dataframe tbody tr th {\n        vertical-align: top;\n    }\n\n    .dataframe thead th {\n        text-align: right;\n    }\n</style>\n<table border=\"1\" class=\"dataframe\">\n  <thead>\n    <tr style=\"text-align: right;\">\n      <th></th>\n      <th>label</th>\n      <th>context</th>\n      <th>response</th>\n      <th>id</th>\n    </tr>\n  </thead>\n  <tbody>\n    <tr>\n      <th>0</th>\n      <td>NOT_SARCASM</td>\n      <td>[Well now that ’ s problematic AF &lt;URL&gt;, @USER...</td>\n      <td>@USER @USER @USER My 3 year old , that just fi...</td>\n      <td>twitter_1</td>\n    </tr>\n    <tr>\n      <th>1</th>\n      <td>SARCASM</td>\n      <td>[Last week the Fake News said that a section o...</td>\n      <td>@USER @USER How many verifiable lies has he to...</td>\n      <td>twitter_2</td>\n    </tr>\n    <tr>\n      <th>2</th>\n      <td>SARCASM</td>\n      <td>[@USER Let ’ s Aplaud Brett When he deserves i...</td>\n      <td>@USER @USER @USER Maybe Docs just a scrub of a...</td>\n      <td>twitter_3</td>\n    </tr>\n    <tr>\n      <th>3</th>\n      <td>NOT_SARCASM</td>\n      <td>[Women generally hate this president . What's ...</td>\n      <td>@USER @USER is just a cover up for the real ha...</td>\n      <td>twitter_4</td>\n    </tr>\n    <tr>\n      <th>4</th>\n      <td>NOT_SARCASM</td>\n      <td>[Dear media Remoaners , you excitedly sharing ...</td>\n      <td>@USER @USER @USER The irony being that he even...</td>\n      <td>twitter_5</td>\n    </tr>\n    <tr>\n      <th>...</th>\n      <td>...</td>\n      <td>...</td>\n      <td>...</td>\n      <td>...</td>\n    </tr>\n    <tr>\n      <th>1795</th>\n      <td>NOT_SARCASM</td>\n      <td>[I have been a business customer of MWeb @USER...</td>\n      <td>@USER @USER @USER is definitely the best out t...</td>\n      <td>twitter_1796</td>\n    </tr>\n    <tr>\n      <th>1796</th>\n      <td>SARCASM</td>\n      <td>[A woman refuses to have her temperature taken...</td>\n      <td>@USER @USER Ye let her out run wild and infect...</td>\n      <td>twitter_1797</td>\n    </tr>\n    <tr>\n      <th>1797</th>\n      <td>SARCASM</td>\n      <td>[The reason big government wants @USER out is ...</td>\n      <td>@USER @USER @USER Thanks for that , I would ha...</td>\n      <td>twitter_1798</td>\n    </tr>\n    <tr>\n      <th>1798</th>\n      <td>NOT_SARCASM</td>\n      <td>[Happy #musicmonday and #thanks for #all your ...</td>\n      <td>@USER @USER @USER Yes also #found this on #new...</td>\n      <td>twitter_1799</td>\n    </tr>\n    <tr>\n      <th>1799</th>\n      <td>NOT_SARCASM</td>\n      <td>[Not long wrapped on the amazing #January22nd ...</td>\n      <td>@USER @USER @USER you still need to send the l...</td>\n      <td>twitter_1800</td>\n    </tr>\n  </tbody>\n</table>\n<p>1800 rows × 4 columns</p>\n</div>"
     },
     "metadata": {},
     "execution_count": 22
    }
   ],
   "source": [
    "twitter_test = pd.read_json(\"sarcasm_detection_shared_task_twitter_testing.jsonl\", lines=True)\n",
    "twitter_test"
   ]
  },
  {
   "cell_type": "code",
   "execution_count": 34,
   "metadata": {},
   "outputs": [
    {
     "output_type": "stream",
     "name": "stdout",
     "text": [
      "1800\n"
     ]
    }
   ],
   "source": [
    "test_inputs = input_sentiments(twitter_test.response, twitter_test.context)\n",
    "test_inputs = np.array(test_inputs).reshape(-1, 1)\n",
    "print(len(test_inputs))"
   ]
  },
  {
   "cell_type": "code",
   "execution_count": 33,
   "metadata": {},
   "outputs": [
    {
     "output_type": "stream",
     "name": "stdout",
     "text": [
      "1800\n"
     ]
    }
   ],
   "source": [
    "test_labels = [ 1 if x=='SARCASM' else 0 for x in twitter_test.label ]\n",
    "print(len(test_labels))"
   ]
  },
  {
   "cell_type": "code",
   "execution_count": 29,
   "metadata": {},
   "outputs": [],
   "source": [
    "\n",
    "from sklearn.utils import shuffle\n",
    "X_train, y_train = shuffle(np.array(inputs).reshape(-1, 1), input_labels, random_state=1383944)"
   ]
  },
  {
   "cell_type": "code",
   "execution_count": 30,
   "metadata": {},
   "outputs": [],
   "source": [
    "#Import svm model\n",
    "from sklearn import svm\n",
    "\n",
    "#Create a svm Classifier\n",
    "clf = svm.SVC(kernel='rbf', C=10) # Linear Kernel\n",
    "\n",
    "#Train the model using the training sets\n",
    "clf.fit(X_train, y_train)\n",
    "\n",
    "#Predict the response for test dataset\n",
    "y_pred = clf.predict(test_inputs)"
   ]
  },
  {
   "cell_type": "code",
   "execution_count": 31,
   "metadata": {},
   "outputs": [
    {
     "output_type": "stream",
     "name": "stdout",
     "text": [
      "Accuracy: 0.5305555555555556\n"
     ]
    }
   ],
   "source": [
    "from sklearn import metrics\n",
    "\n",
    "# Model Accuracy: how often is the classifier correct?\n",
    "print(\"Accuracy:\",metrics.accuracy_score(test_labels, y_pred))"
   ]
  },
  {
   "cell_type": "code",
   "execution_count": 36,
   "metadata": {},
   "outputs": [
    {
     "output_type": "stream",
     "name": "stdout",
     "text": [
      "Precision: 0.5247524752475248\nRecall: 0.6477777777777778\n0.5798110392839384\n0.524015022473939\n"
     ]
    }
   ],
   "source": [
    "print(\"Precision:\",metrics.precision_score(test_labels, y_pred))\n",
    "precision =metrics.precision_score(test_labels, y_pred)\n",
    "\n",
    "# Model Recall: what perce\n",
    "# ntage of positive tuples are labelled as such?\n",
    "print(\"Recall:\",metrics.recall_score(test_labels, y_pred))\n",
    "recall = metrics.recall_score(test_labels, y_pred)\n",
    "\n",
    "f1 = 2 * (precision * recall) / (precision + recall)\n",
    "print(f1)\n",
    "\n",
    "from sklearn.metrics import f1_score\n",
    "\n",
    "print(f1_score(test_labels, y_pred, average='macro'))"
   ]
  },
  {
   "cell_type": "code",
   "execution_count": 68,
   "metadata": {},
   "outputs": [
    {
     "output_type": "stream",
     "name": "stdout",
     "text": [
      "0.44630000000000003\n0.3818\n0.47055555555555556\n"
     ]
    }
   ],
   "source": [
    "#abs\n",
    "sarcasm = [abs(inputs[i]) for i in range(0,2499)]\n",
    "not_sarcasm = [abs(inputs[i]) for i in range(2500,4999)]\n",
    "#min\n",
    "print(np.median(sarcasm))\n",
    "print(np.median(not_sarcasm))\n",
    "results = []\n",
    "for i in test_inputs:\n",
    "    if abs(i)<0.4:\n",
    "        results.append(1)\n",
    "        continue\n",
    "    results.append(0)\n",
    "\n",
    "c=0\n",
    "for i,j in zip(results, test_labels):\n",
    "    if i==j:\n",
    "        c+=1\n",
    "print(c/len(test_labels))"
   ]
  },
  {
   "cell_type": "code",
   "execution_count": null,
   "metadata": {},
   "outputs": [],
   "source": []
  },
  {
   "cell_type": "code",
   "execution_count": null,
   "metadata": {},
   "outputs": [],
   "source": []
  }
 ]
}