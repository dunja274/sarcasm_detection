{
 "metadata": {
  "language_info": {
   "codemirror_mode": {
    "name": "ipython",
    "version": 3
   },
   "file_extension": ".py",
   "mimetype": "text/x-python",
   "name": "python",
   "nbconvert_exporter": "python",
   "pygments_lexer": "ipython3",
   "version": "3.8.5"
  },
  "orig_nbformat": 2,
  "kernelspec": {
   "name": "python385jvsc74a57bd0f4a3b64f4030d09b920c9351b19386564e391b4b6c3fe510cff2919ed5842dc5",
   "display_name": "Python 3.8.5 64-bit ('base': conda)"
  }
 },
 "nbformat": 4,
 "nbformat_minor": 2,
 "cells": [
  {
   "cell_type": "code",
   "execution_count": 3,
   "metadata": {},
   "outputs": [],
   "source": [
    "import torch   \n",
    "from torchtext import data \n",
    "torch.manual_seed(2021)\n",
    "from torchtext.legacy.data import Field, TabularDataset, LabelField, BucketIterator, NestedField"
   ]
  },
  {
   "cell_type": "code",
   "execution_count": 131,
   "metadata": {},
   "outputs": [
    {
     "output_type": "execute_result",
     "data": {
      "text/plain": [
       "\"Watch this clip - Shows a ' Free Kashmir ' paid billboard in New Jersey , USA . I came across many such billboards . Who is paying for them ? Why ? An entire anti-India nexus is out there to destabilize India . Countless ignorant students falling in the trap . Must be made aware of facts ! <URL>\""
      ]
     },
     "metadata": {},
     "execution_count": 131
    }
   ],
   "source": [
    "import pandas as pd\n",
    "twitter = pd.read_json(\"sarcasm_detection_shared_task_twitter_training.jsonl\", lines=True)\n",
    "for i,c in enumerate(twitter.context):\n",
    "    twitter.context[i] = c[-1]\n",
    "twitter.to_json(\"sarcasm_detection_shared_task_twitter_training_context.jsonl\", orient = 'records', lines=True)"
   ]
  },
  {
   "cell_type": "code",
   "execution_count": 132,
   "metadata": {},
   "outputs": [
    {
     "output_type": "stream",
     "name": "stderr",
     "text": [
      "C:\\Users\\Dunja\\anaconda3\\lib\\site-packages\\torchtext\\data\\utils.py:123: UserWarning: Spacy model \"en\" could not be loaded, trying \"en_core_web_sm\" instead\n  warnings.warn(f'Spacy model \"{language}\" could not be loaded, trying \"{OLD_MODEL_SHORTCUTS[language]}\" instead')\n"
     ]
    }
   ],
   "source": [
    "CONTEXT = Field(tokenize='spacy',batch_first=True,include_lengths=True)\n",
    "TEXT = Field(tokenize='spacy',batch_first=True,include_lengths=True)\n",
    "LABEL = LabelField(dtype = torch.float,batch_first=True)\n"
   ]
  },
  {
   "cell_type": "code",
   "execution_count": 133,
   "metadata": {},
   "outputs": [],
   "source": [
    "fields = {'label':('label', LABEL), 'response':('text', TEXT), 'context':('context', CONTEXT)}"
   ]
  },
  {
   "cell_type": "code",
   "execution_count": 134,
   "metadata": {},
   "outputs": [],
   "source": [
    "training_data=TabularDataset(path = 'sarcasm_detection_shared_task_twitter_training_context.jsonl', format = 'json', fields = fields,)"
   ]
  },
  {
   "cell_type": "code",
   "execution_count": 135,
   "metadata": {},
   "outputs": [
    {
     "output_type": "execute_result",
     "data": {
      "text/plain": [
       "['@USER',\n",
       " '@USER',\n",
       " 'having',\n",
       " 'to',\n",
       " 'make',\n",
       " 'up',\n",
       " 'excuses',\n",
       " 'of',\n",
       " 'why',\n",
       " 'your',\n",
       " 'crowd',\n",
       " 'was',\n",
       " 'small',\n",
       " '.']"
      ]
     },
     "metadata": {},
     "execution_count": 135
    }
   ],
   "source": [
    "training_data.examples[1].context"
   ]
  },
  {
   "cell_type": "code",
   "execution_count": 136,
   "metadata": {},
   "outputs": [],
   "source": [
    "import random\n",
    "train_data, valid_data = training_data.split(split_ratio=0.9, random_state = random.seed(2021))"
   ]
  },
  {
   "cell_type": "code",
   "execution_count": 137,
   "metadata": {
    "tags": []
   },
   "outputs": [
    {
     "output_type": "stream",
     "name": "stdout",
     "text": [
      "Size of LABEL vocabulary: 14935\n[('@USER', 7333), ('.', 5785), ('the', 3267), (',', 3068), ('to', 2606), ('I', 2092), ('a', 2063), ('and', 1832), ('you', 1791), ('of', 1641)]\n"
     ]
    }
   ],
   "source": [
    "#initialize glove embeddings\n",
    "TEXT.build_vocab(train_data, min_freq=1,vectors = \"glove.twitter.27B.100d\")\n",
    "#glove.twitter.27B.100d\n",
    "CONTEXT.build_vocab(train_data, min_freq=1,vectors = \"glove.twitter.27B.100d\")\n",
    "LABEL.build_vocab(train_data,)\n",
    "\n",
    "#Unique tokens in response\n",
    "# print(\"Size of TEXT vocabulary:\", TEXT.vocab.freqs.\n",
    "\n",
    "#Unique tokens in label\n",
    "print(\"Size of LABEL vocabulary:\",len(CONTEXT.vocab))\n",
    "# print(TEXT.vocab.vectors[50])\n",
    "#Commonly used words\n",
    "print(CONTEXT.vocab.freqs.most_common(10))\n",
    "  "
   ]
  },
  {
   "cell_type": "code",
   "execution_count": 138,
   "metadata": {},
   "outputs": [
    {
     "output_type": "stream",
     "name": "stdout",
     "text": [
      "defaultdict(None, {'SARCASM': 0, 'NOT_SARCASM': 1})\n"
     ]
    }
   ],
   "source": [
    "print(LABEL.vocab.stoi)"
   ]
  },
  {
   "cell_type": "code",
   "execution_count": 139,
   "metadata": {},
   "outputs": [],
   "source": [
    "#check whether cuda is available\n",
    "device = torch.device('cuda' if torch.cuda.is_available() else 'cpu')  \n",
    "BATCH_SIZE = 16\n",
    "device = 'cpu'\n",
    "\n",
    "train_iterator, valid_iterator = BucketIterator.splits(\n",
    "    (train_data, valid_data), \n",
    "    batch_size = BATCH_SIZE,\n",
    "    sort_key = lambda x: len(x.text),\n",
    "    sort_within_batch=True,\n",
    "    device = device)\n"
   ]
  },
  {
   "cell_type": "code",
   "execution_count": 140,
   "metadata": {},
   "outputs": [
    {
     "output_type": "execute_result",
     "data": {
      "text/plain": [
       "4500"
      ]
     },
     "metadata": {},
     "execution_count": 140
    }
   ],
   "source": [
    "len(train_data)"
   ]
  },
  {
   "cell_type": "code",
   "execution_count": 141,
   "metadata": {},
   "outputs": [],
   "source": [
    "import torch.nn as nn\n",
    "\n",
    "class classifier(nn.Module):\n",
    "    \n",
    "    #define all the layers used in model\n",
    "    def __init__(self, vocab_size, embedding_dim, hidden_dim, output_dim, n_layers, weights, weights_context,\n",
    "                 bidirectional, dropout):\n",
    "        \n",
    "        #Constructor\n",
    "        super().__init__()          \n",
    "        \n",
    "        #embedding layer\n",
    "        # self.embedding = nn.Embedding(vocab_size, embedding_dim)\n",
    "        self.embedding = nn.Embedding.from_pretrained(weights)\n",
    "        self.embedding_context = nn.Embedding.from_pretrained(weights_context)\n",
    "        \n",
    "        #lstm layer\n",
    "        self.lstm = nn.LSTM(embedding_dim, \n",
    "                           hidden_dim, \n",
    "                           num_layers=n_layers, \n",
    "                           bidirectional=bidirectional, \n",
    "                           dropout=dropout,\n",
    "                           batch_first=True)\n",
    "        \n",
    "        #dense layer\n",
    "        self.fc = nn.Linear(hidden_dim * 4, output_dim)\n",
    "        \n",
    "        #activation function\n",
    "        self.act = nn.Sigmoid()\n",
    "        \n",
    "    def forward(self, text, text_lengths, context, context_lengths):\n",
    "        \n",
    "        #text = [batch size,sent_length]\n",
    "        embedded = self.embedding(text)\n",
    "        embedded_context = self.embedding_context(context)\n",
    "        # print(embedded.shape)\n",
    "\n",
    "        #embedded = [batch size, sent_len, emb dim]\n",
    "      \n",
    "        #packed sequence\n",
    "        packed_embedded = nn.utils.rnn.pack_padded_sequence(embedded, text_lengths.cpu(), batch_first=True)\n",
    "        packed_embedded_context = nn.utils.rnn.pack_padded_sequence(embedded_context, context_lengths.cpu(), batch_first=True, enforce_sorted=False)\n",
    "        # print(packed_embedded)\n",
    "        #\n",
    "        # packed_output, hidden = self.lstm(packed_embedded)\n",
    "        packed_output, (hidden, cell) = self.lstm(packed_embedded)\n",
    "        packed_output_context, (hidden_context, cell_context) = self.lstm(packed_embedded_context)\n",
    "        #hidden = [num layers * num directions, batch size, hid dim]\n",
    "        #cell = [batch size, num layers * num directions,hid dim]\n",
    "        \n",
    "        #concat the final forward and backward hidden state\n",
    "        \n",
    "        hidden = torch.cat((hidden[-2,:,:], hidden[-1,:,:]), dim = 1)\n",
    "        hidden_context = torch.cat((hidden_context[-2,:,:], hidden_context[-1,:,:]), dim = 1)\n",
    "        # print(hidden.shape)\n",
    "        # print(hidden_context.shape)\n",
    "        \n",
    "        hidden = torch.cat((hidden, hidden_context), dim=1)\n",
    "        # print(hidden.shape)\n",
    "        #hidden = [batch size, hid dim * num directions]\n",
    "        dense_outputs=self.fc(hidden)\n",
    "\n",
    "        #Final activation function\n",
    "        outputs=self.act(dense_outputs)\n",
    "        \n",
    "        return outputs"
   ]
  },
  {
   "cell_type": "code",
   "execution_count": 142,
   "metadata": {},
   "outputs": [],
   "source": [
    "#define hyperparameters\n",
    "size_of_vocab = len(TEXT.vocab)\n",
    "embedding_dim = 100\n",
    "num_hidden_nodes = 300\n",
    "num_output_nodes = 1\n",
    "num_layers = 3\n",
    "bidirection = True\n",
    "dropout = 0.2\n",
    "\n",
    "pretrained_embeddings = TEXT.vocab.vectors\n",
    "# model.embedding.weight.data.copy_(pretrained_embeddings)\n",
    "\n",
    "#instantiate the model\n",
    "model = classifier(size_of_vocab, embedding_dim, num_hidden_nodes,num_output_nodes, num_layers, pretrained_embeddings, CONTEXT.vocab.vectors,\n",
    "                   bidirectional = True, dropout = dropout)"
   ]
  },
  {
   "cell_type": "code",
   "execution_count": 143,
   "metadata": {},
   "outputs": [
    {
     "output_type": "stream",
     "name": "stdout",
     "text": [
      "classifier(\n  (embedding): Embedding(14667, 100)\n  (embedding_context): Embedding(14935, 100)\n  (lstm): LSTM(100, 300, num_layers=3, batch_first=True, dropout=0.2, bidirectional=True)\n  (fc): Linear(in_features=1200, out_features=1, bias=True)\n  (act): Sigmoid()\n)\nThe model has 5,295,601 trainable parameters\ntorch.Size([14667, 100])\n"
     ]
    }
   ],
   "source": [
    "#architecture\n",
    "print(model)\n",
    "\n",
    "#No. of trianable parameters\n",
    "def count_parameters(model):\n",
    "    return sum(p.numel() for p in model.parameters() if p.requires_grad)\n",
    "    \n",
    "print(f'The model has {count_parameters(model):,} trainable parameters')\n",
    "\n",
    "#Initialize the pretrained embedding\n",
    "\n",
    "print(pretrained_embeddings.shape)"
   ]
  },
  {
   "cell_type": "code",
   "execution_count": 144,
   "metadata": {},
   "outputs": [],
   "source": [
    "import torch.optim as optim\n",
    "\n",
    "#define optimizer and loss\n",
    "optimizer = optim.Adam(model.parameters(), lr=0.0001)\n",
    "criterion = nn.BCELoss()\n",
    "\n",
    "#define metric\n",
    "def binary_accuracy(preds, y):\n",
    "    #round predictions to the closest integer\n",
    "    rounded_preds = torch.round(preds)\n",
    "    \n",
    "    correct = (rounded_preds == y).float() \n",
    "    acc = correct.sum() / len(correct)\n",
    "    return acc\n",
    "    \n",
    "#push to cuda if available\n",
    "model = model.to(device)\n",
    "criterion = criterion.to(device)"
   ]
  },
  {
   "cell_type": "code",
   "execution_count": 145,
   "metadata": {},
   "outputs": [],
   "source": [
    "from sklearn.metrics import accuracy_score\n",
    "\n",
    "\n",
    "def train(model, iterator, optimizer, criterion):\n",
    "    \n",
    "    #initialize every epoch \n",
    "    epoch_loss = 0\n",
    "    epoch_acc = 0\n",
    "    \n",
    "    #set the model in training phase\n",
    "    model.train()  \n",
    "    \n",
    "    for batch in iterator:\n",
    "        \n",
    "        #resets the gradients after every batch\n",
    "        optimizer.zero_grad()   \n",
    "        \n",
    "        #retrieve text and no. of words\n",
    "        text, text_lengths = batch.text \n",
    "        context, context_lengths = batch.context\n",
    "\n",
    "        #convert to 1D tensor\n",
    "        predictions = model(text, text_lengths, context, context_lengths).squeeze(0) # dodala nula\n",
    "        \n",
    "        #compute the loss\n",
    "        loss = criterion(predictions.squeeze(), batch.label.squeeze())\n",
    "        # loss = criterion(predictions, batch.label)       \n",
    "    \n",
    "        #compute the binary accuracy\n",
    "        # acc = binary_accuracy(predictions, batch.label)  \n",
    "        acc = accuracy_score(predictions.detach().squeeze().round().numpy(), batch.label.detach().numpy() ) \n",
    "        \n",
    "        #backpropage the loss and compute the gradients\n",
    "        loss.backward()       \n",
    "        \n",
    "        #update the weights\n",
    "        optimizer.step()      \n",
    "        \n",
    "        #loss and accuracy\n",
    "        epoch_loss += loss.item()  \n",
    "        epoch_acc += acc    \n",
    "        \n",
    "    return epoch_loss / len(iterator), epoch_acc / len(iterator)"
   ]
  },
  {
   "cell_type": "code",
   "execution_count": 146,
   "metadata": {},
   "outputs": [],
   "source": [
    "\n",
    "\n",
    "def evaluate(model, iterator, criterion):\n",
    "    \n",
    "    #initialize every epoch\n",
    "    epoch_loss = 0\n",
    "    epoch_acc = 0\n",
    "\n",
    "    #deactivating dropout layers\n",
    "    model.eval()\n",
    "    \n",
    "    #deactivates autograd\n",
    "    with torch.no_grad():\n",
    "    \n",
    "        for batch in iterator:\n",
    "        \n",
    "            #retrieve text and no. of words\n",
    "            text, text_lengths = batch.text\n",
    "            context, context_lengths = batch.context\n",
    "            \n",
    "            #convert to 1d tensor\n",
    "            predictions = model(text, text_lengths, context, context_lengths).squeeze(0) # dodala 0\n",
    "            \n",
    "            #compute loss and accuracy\n",
    "            loss = criterion(predictions.squeeze(), batch.label.squeeze())\n",
    "            # loss = criterion(predictions, batch.label)\n",
    "            # acc = binary_accuracy(predictions, batch.label)\n",
    "            acc = accuracy_score(predictions.detach().squeeze().round().numpy(), batch.label.detach().numpy() ) \n",
    "            \n",
    "            #keep track of loss and accuracy\n",
    "            epoch_loss += loss.item()\n",
    "            epoch_acc += acc\n",
    "        \n",
    "    return epoch_loss / len(iterator), epoch_acc / len(iterator)"
   ]
  },
  {
   "cell_type": "code",
   "execution_count": 147,
   "metadata": {
    "tags": []
   },
   "outputs": [
    {
     "output_type": "stream",
     "name": "stdout",
     "text": [
      "\n",
      "Epoch 1\n",
      "\tTrain Loss: 0.595 | Train Acc: 67.29%\n",
      "\t Val. Loss: 0.536 |  Val. Acc: 73.44%\n",
      "\tTrain Loss: 0.519 | Train Acc: 74.29%\n",
      "\t Val. Loss: 0.543 |  Val. Acc: 72.27%\n",
      "\n",
      "Epoch 3\n",
      "\tTrain Loss: 0.501 | Train Acc: 74.89%\n",
      "\t Val. Loss: 0.512 |  Val. Acc: 73.44%\n",
      "\tTrain Loss: 0.488 | Train Acc: 76.11%\n",
      "\t Val. Loss: 0.528 |  Val. Acc: 72.46%\n",
      "\tTrain Loss: 0.478 | Train Acc: 76.57%\n",
      "\t Val. Loss: 0.528 |  Val. Acc: 71.88%\n",
      "\tTrain Loss: 0.462 | Train Acc: 77.02%\n",
      "\t Val. Loss: 0.527 |  Val. Acc: 73.63%\n",
      "\n",
      "Epoch 7\n",
      "\tTrain Loss: 0.456 | Train Acc: 77.66%\n",
      "\t Val. Loss: 0.511 |  Val. Acc: 72.66%\n",
      "\tTrain Loss: 0.447 | Train Acc: 77.75%\n",
      "\t Val. Loss: 0.517 |  Val. Acc: 72.85%\n",
      "\n",
      "Epoch 9\n",
      "\tTrain Loss: 0.434 | Train Acc: 78.66%\n",
      "\t Val. Loss: 0.509 |  Val. Acc: 73.63%\n",
      "\n",
      "Epoch 10\n",
      "\tTrain Loss: 0.421 | Train Acc: 78.99%\n",
      "\t Val. Loss: 0.503 |  Val. Acc: 72.85%\n"
     ]
    }
   ],
   "source": [
    "N_EPOCHS = 10\n",
    "best_valid_loss = float('inf')\n",
    "\n",
    "for epoch in range(N_EPOCHS):\n",
    "     \n",
    "    #train the model\n",
    "    train_loss, train_acc = train(model, train_iterator, optimizer, criterion)\n",
    "    \n",
    "    #evaluate the model\n",
    "    valid_loss, valid_acc = evaluate(model, valid_iterator, criterion)\n",
    "    \n",
    "    #save the best model\n",
    "    if valid_loss < best_valid_loss:\n",
    "        best_valid_loss = valid_loss\n",
    "        print(f\"\\nEpoch {epoch+1}\")\n",
    "        if (epoch+1)<=5:\n",
    "            torch.save(model.state_dict(), 'saved_weights.pt')\n",
    "        else:\n",
    "            torch.save(model.state_dict(), 'saved_weights.pt')\n",
    "\n",
    "    \n",
    "    # torch.save(model.state_dict(), 'saved_weights.pt')\n",
    "    print(f'\\tTrain Loss: {train_loss:.3f} | Train Acc: {train_acc*100:.2f}%')\n",
    "    print(f'\\t Val. Loss: {valid_loss:.3f} |  Val. Acc: {valid_acc*100:.2f}%')"
   ]
  },
  {
   "cell_type": "code",
   "execution_count": 148,
   "metadata": {},
   "outputs": [],
   "source": [
    "#load weights\n",
    "path='saved_weights.pt'\n",
    "model.load_state_dict(torch.load(path))\n",
    "model.eval()\n",
    "\n",
    "#inference \n",
    "import spacy\n",
    "nlp = spacy.load('en_core_web_sm')\n",
    "\n",
    "def predict(model, sentence, cont):\n",
    "    tokenized = [tok.text for tok in nlp.tokenizer(sentence)]  #tokenize the sentence \n",
    "    indexed = [TEXT.vocab.stoi[t] for t in tokenized]          #convert to integer sequence\n",
    "    length = [len(indexed)]                                    #compute no. of words\n",
    "    tensor = torch.LongTensor(indexed).to(device)              #convert to tensor\n",
    "    tensor = tensor.unsqueeze(1).T                             #reshape in form of batch,no. of words\n",
    "    length_tensor = torch.LongTensor(length)                   #convert to tensor\n",
    "\n",
    "    tokenized = [tok.text for tok in nlp.tokenizer(cont)]  #tokenize the sentence \n",
    "    indexed = [CONTEXT.vocab.stoi[t] for t in tokenized]\n",
    "    # print(indexed)          #convert to integer sequence\n",
    "    length_context = [len(indexed)]                                    #compute no. of words\n",
    "    tensor_context = torch.LongTensor(indexed).to(device)              #convert to tensor\n",
    "    tensor_context = tensor_context.unsqueeze(1).T                             #reshape in form of batch,no. of words\n",
    "    length_tensor_context = torch.LongTensor(length_context)                   #convert to tensor\n",
    "    \n",
    "    prediction = model(tensor, length_tensor, tensor_context, length_tensor_context)                  #prediction \n",
    "    return prediction.item()               "
   ]
  },
  {
   "cell_type": "code",
   "execution_count": 149,
   "metadata": {},
   "outputs": [
    {
     "output_type": "stream",
     "name": "stdout",
     "text": [
      "1800\n"
     ]
    }
   ],
   "source": [
    "import pandas as pd\n",
    "twitter = pd.read_json(\"sarcasm_detection_shared_task_twitter_testing.jsonl\", lines=True)\n",
    "\n",
    "input_labels = [ 1 if x!='SARCASM' else 0 for x in twitter.label ] # ako koristim long dataset onda ==\n",
    "print(len(input_labels))"
   ]
  },
  {
   "cell_type": "code",
   "execution_count": 151,
   "metadata": {},
   "outputs": [],
   "source": [
    "outs=[]\n",
    "for s,c in zip(twitter.response,twitter.context):\n",
    "    outs.append(round(predict(model,s,c[-1])))"
   ]
  },
  {
   "cell_type": "code",
   "execution_count": 152,
   "metadata": {},
   "outputs": [
    {
     "output_type": "execute_result",
     "data": {
      "text/plain": [
       "0.7289590239524841"
      ]
     },
     "metadata": {},
     "execution_count": 152
    }
   ],
   "source": [
    "predict(model,twitter.response[2],twitter.context[2][0])"
   ]
  },
  {
   "cell_type": "code",
   "execution_count": 153,
   "metadata": {},
   "outputs": [
    {
     "output_type": "stream",
     "name": "stdout",
     "text": [
      "1215\n0.675\n"
     ]
    }
   ],
   "source": [
    "c=0\n",
    "for x,y in zip(outs,input_labels):\n",
    "    if(x==y):\n",
    "        c+=1\n",
    "print(c)\n",
    "print(c/1800)"
   ]
  },
  {
   "cell_type": "code",
   "execution_count": 155,
   "metadata": {},
   "outputs": [
    {
     "output_type": "execute_result",
     "data": {
      "text/plain": [
       "0.6744347826086956"
      ]
     },
     "metadata": {},
     "execution_count": 155
    }
   ],
   "source": [
    "from sklearn.metrics import f1_score\n",
    "f1 = f1_score(input_labels, outs, average='macro')\n",
    "f1"
   ]
  },
  {
   "cell_type": "code",
   "execution_count": 156,
   "metadata": {},
   "outputs": [
    {
     "output_type": "stream",
     "name": "stdout",
     "text": [
      "Precision: 0.6615384615384615\nRecall: 0.7166666666666667\n0.6744347826086956\n"
     ]
    }
   ],
   "source": [
    "from sklearn import metrics\n",
    "print(\"Precision:\",metrics.precision_score(input_labels, outs))\n",
    "precision =metrics.precision_score(input_labels, outs)\n",
    "\n",
    "# Model Recall: what perce\n",
    "# ntage of positive tuples are labelled as such?\n",
    "print(\"Recall:\",metrics.recall_score(input_labels, outs))\n",
    "recall = metrics.recall_score(input_labels, outs)\n",
    "\n",
    "print(f1_score(input_labels, outs, average='macro'))"
   ]
  }
 ]
}