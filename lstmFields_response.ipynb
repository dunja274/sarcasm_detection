{
 "metadata": {
  "language_info": {
   "codemirror_mode": {
    "name": "ipython",
    "version": 3
   },
   "file_extension": ".py",
   "mimetype": "text/x-python",
   "name": "python",
   "nbconvert_exporter": "python",
   "pygments_lexer": "ipython3",
   "version": "3.8.5"
  },
  "orig_nbformat": 2,
  "kernelspec": {
   "name": "python385jvsc74a57bd0f4a3b64f4030d09b920c9351b19386564e391b4b6c3fe510cff2919ed5842dc5",
   "display_name": "Python 3.8.5 64-bit ('base': conda)"
  }
 },
 "nbformat": 4,
 "nbformat_minor": 2,
 "cells": [
  {
   "cell_type": "code",
   "execution_count": 101,
   "metadata": {},
   "outputs": [],
   "source": [
    "import torch \n",
    "import random\n",
    "import pandas as pd\n",
    "\n",
    "import torch.nn as nn\n",
    "import torch.optim as optim\n",
    "\n",
    "torch.manual_seed(2021)\n",
    "\n",
    "from torchtext import data \n",
    "from torchtext.legacy.data import Field, TabularDataset, LabelField, BucketIterator\n",
    "\n",
    "from sklearn.metrics import accuracy_score"
   ]
  },
  {
   "cell_type": "code",
   "execution_count": 82,
   "metadata": {},
   "outputs": [
    {
     "output_type": "stream",
     "name": "stderr",
     "text": [
      "C:\\Users\\Dunja\\anaconda3\\lib\\site-packages\\torchtext\\data\\utils.py:123: UserWarning: Spacy model \"en\" could not be loaded, trying \"en_core_web_sm\" instead\n  warnings.warn(f'Spacy model \"{language}\" could not be loaded, trying \"{OLD_MODEL_SHORTCUTS[language]}\" instead')\n"
     ]
    }
   ],
   "source": [
    "CONTEXT = Field(tokenize='spacy',batch_first=True,include_lengths=True)\n",
    "TEXT = Field(tokenize='spacy',batch_first=True,include_lengths=True)\n",
    "LABEL = LabelField(dtype = torch.float,batch_first=True)"
   ]
  },
  {
   "cell_type": "code",
   "execution_count": 102,
   "metadata": {},
   "outputs": [],
   "source": [
    "fields = {'label':('label', LABEL), 'response':('text', TEXT)}\n",
    "training_data=TabularDataset(path = 'sarcasm_detection_shared_task_twitter_training.jsonl', format = 'json', fields = fields,)\n",
    "train_data, valid_data = training_data.split(split_ratio=0.9, random_state = random.seed(2021))"
   ]
  },
  {
   "cell_type": "code",
   "execution_count": 103,
   "metadata": {
    "tags": []
   },
   "outputs": [],
   "source": [
    "#initialize glove embeddings\n",
    "TEXT.build_vocab(train_data, min_freq=1,vectors = \"glove.twitter.27B.100d\")  \n",
    "LABEL.build_vocab(train_data,)"
   ]
  },
  {
   "cell_type": "code",
   "execution_count": 104,
   "metadata": {},
   "outputs": [],
   "source": [
    "#check whether cuda is available\n",
    "device = torch.device('cuda' if torch.cuda.is_available() else 'cpu')  \n",
    "BATCH_SIZE = 16\n",
    "device = 'cpu'\n",
    "\n",
    "train_iterator, valid_iterator = BucketIterator.splits(\n",
    "    (train_data, valid_data), \n",
    "    batch_size = BATCH_SIZE,\n",
    "    sort_key = lambda x: len(x.text),\n",
    "    sort_within_batch=True,\n",
    "    device = device)\n"
   ]
  },
  {
   "cell_type": "code",
   "execution_count": 105,
   "metadata": {},
   "outputs": [],
   "source": [
    "class Classifier(nn.Module):\n",
    "    def __init__(self, vocab_size, embedding_dim, hidden_dim, output_dim, n_layers, weights,\n",
    "                 bidirectional, dropout):\n",
    "        \n",
    "        super().__init__()          \n",
    "        self.embedding = nn.Embedding.from_pretrained(weights)\n",
    "        \n",
    "        self.lstm = nn.LSTM(embedding_dim, \n",
    "                           hidden_dim, \n",
    "                           num_layers=n_layers, \n",
    "                           bidirectional=bidirectional, \n",
    "                           dropout=dropout,\n",
    "                           batch_first=True)\n",
    "        \n",
    "        self.fc = nn.Linear(hidden_dim * 2, output_dim)\n",
    "        self.act = nn.Sigmoid()\n",
    "        \n",
    "    def forward(self, text, text_lengths):\n",
    "        # print(type(text))\n",
    "        embedded = self.embedding(text) # embedded = [batch size, sent_len, emb dim]\n",
    "        packed_embedded = nn.utils.rnn.pack_padded_sequence(embedded, text_lengths.cpu(), batch_first=True)\n",
    "        \n",
    "        packed_output, (hidden, cell) = self.lstm(packed_embedded) #hidden = [num layers * num directions, batch size, hid dim]\n",
    "        #concat the final forward and backward hidden state\n",
    "        hidden = torch.cat((hidden[-2,:,:], hidden[-1,:,:]), dim = 1) #hidden = [batch size, hid dim * num directions]\n",
    "        \n",
    "        dense_outputs=self.fc(hidden)\n",
    "        outputs=self.act(dense_outputs)\n",
    "\n",
    "        # dense_outputs=self.fc(hidden)\n",
    "        # outputs=self.act(hidden)\n",
    "        \n",
    "        return outputs"
   ]
  },
  {
   "cell_type": "code",
   "execution_count": 106,
   "metadata": {},
   "outputs": [],
   "source": [
    "#define hyperparameters\n",
    "size_of_vocab = len(TEXT.vocab)\n",
    "embedding_dim = 100\n",
    "num_hidden_nodes = 300\n",
    "num_output_nodes = 1\n",
    "num_layers = 3\n",
    "bidirection = True\n",
    "dropout = 0.2\n",
    "\n",
    "pretrained_embeddings = TEXT.vocab.vectors\n",
    "# model.embedding.weight.data.copy_(pretrained_embeddings)\n",
    "\n",
    "#instantiate the model\n",
    "model = Classifier(size_of_vocab, embedding_dim, num_hidden_nodes ,num_output_nodes, num_layers, pretrained_embeddings, bidirectional=True, dropout=dropout)\n",
    "\n",
    "#define optimizer and loss\n",
    "optimizer = optim.Adam(model.parameters(), lr=0.0001)\n",
    "criterion = nn.BCELoss()\n",
    "\n",
    "#push to cuda if available\n",
    "model = model.to(device)\n",
    "criterion = criterion.to(device)"
   ]
  },
  {
   "cell_type": "code",
   "execution_count": 107,
   "metadata": {},
   "outputs": [],
   "source": [
    "def train(model, iterator, optimizer, criterion):\n",
    "    epoch_loss = 0\n",
    "    epoch_acc = 0\n",
    "    \n",
    "    model.train()  \n",
    "    \n",
    "    for batch in iterator:\n",
    "        optimizer.zero_grad()   \n",
    "        text, text_lengths = batch.text \n",
    "\n",
    "        predictions = model(text, text_lengths)\n",
    "        loss = criterion(predictions.squeeze(), batch.label.squeeze())\n",
    "        acc = accuracy_score(predictions.detach().squeeze().round().numpy(), batch.label.detach().numpy() ) \n",
    "        \n",
    "        loss.backward()       \n",
    "        optimizer.step()      \n",
    "        \n",
    "        epoch_loss += loss.item()  \n",
    "        epoch_acc += acc    \n",
    "        \n",
    "    return epoch_loss / len(iterator), epoch_acc / len(iterator)"
   ]
  },
  {
   "cell_type": "code",
   "execution_count": 108,
   "metadata": {},
   "outputs": [],
   "source": [
    "def evaluate(model, iterator, criterion):\n",
    "    epoch_loss = 0\n",
    "    epoch_acc = 0\n",
    "\n",
    "    model.eval()\n",
    "    \n",
    "    with torch.no_grad():  \n",
    "        for batch in iterator:\n",
    "            text, text_lengths = batch.text\n",
    "            \n",
    "            predictions = model(text, text_lengths)\n",
    "            loss = criterion(predictions.squeeze(), batch.label.squeeze())\n",
    "            acc = accuracy_score(predictions.detach().squeeze().round().numpy(), batch.label.detach().numpy() ) \n",
    "            \n",
    "            epoch_loss += loss.item()\n",
    "            epoch_acc += acc\n",
    "        \n",
    "    return epoch_loss / len(iterator), epoch_acc / len(iterator)"
   ]
  },
  {
   "cell_type": "code",
   "execution_count": 109,
   "metadata": {
    "tags": []
   },
   "outputs": [
    {
     "output_type": "stream",
     "name": "stdout",
     "text": [
      "\n",
      "Saved 1\n",
      "\n",
      "Epoch 1\n",
      "\tTrain Loss: 0.599 | Train Acc: 66.69%\n",
      "\tVal.  Loss: 0.564 |  Val. Acc: 70.70%\n",
      "\n",
      "Saved 2\n",
      "\n",
      "Epoch 2\n",
      "\tTrain Loss: 0.530 | Train Acc: 73.52%\n",
      "\tVal.  Loss: 0.553 |  Val. Acc: 70.31%\n",
      "\n",
      "Saved 3\n",
      "\n",
      "Epoch 3\n",
      "\tTrain Loss: 0.507 | Train Acc: 74.38%\n",
      "\tVal.  Loss: 0.535 |  Val. Acc: 72.07%\n",
      "\n",
      "Epoch 4\n",
      "\tTrain Loss: 0.492 | Train Acc: 75.33%\n",
      "\tVal.  Loss: 0.545 |  Val. Acc: 73.05%\n",
      "\n",
      "Saved 5\n",
      "\n",
      "Epoch 5\n",
      "\tTrain Loss: 0.486 | Train Acc: 75.40%\n",
      "\tVal.  Loss: 0.532 |  Val. Acc: 72.85%\n"
     ]
    }
   ],
   "source": [
    "N_EPOCHS = 5\n",
    "best_valid_loss = float('inf')\n",
    "\n",
    "for epoch in range(N_EPOCHS):\n",
    "    train_loss, train_acc = train(model, train_iterator, optimizer, criterion)\n",
    "    valid_loss, valid_acc = evaluate(model, valid_iterator, criterion)\n",
    "    \n",
    "    #save the best model\n",
    "    if valid_loss < best_valid_loss:\n",
    "        best_valid_loss = valid_loss\n",
    "        print(f\"\\nSaved {epoch+1}\")\n",
    "        torch.save(model.state_dict(), 'saved_weights.pt')\n",
    "    \n",
    "    print(f\"\\nEpoch {epoch+1}\")\n",
    "    print(f'\\tTrain Loss: {train_loss:.3f} | Train Acc: {train_acc*100:.2f}%')\n",
    "    print(f'\\tVal.  Loss: {valid_loss:.3f} |  Val. Acc: {valid_acc*100:.2f}%')"
   ]
  },
  {
   "cell_type": "code",
   "execution_count": 110,
   "metadata": {},
   "outputs": [],
   "source": [
    "#load weights\n",
    "path='saved_weights.pt'\n",
    "model.load_state_dict(torch.load(path))\n",
    "model.eval()\n",
    "\n",
    "#inference \n",
    "import spacy\n",
    "nlp = spacy.load('en_core_web_sm')\n",
    "\n",
    "def predict(model, sentence):\n",
    "    tokenized = [tok.text for tok in nlp.tokenizer(sentence)]  # tokenize the sentence \n",
    "    indexed = [TEXT.vocab.stoi[t] for t in tokenized]          # convert to integer sequence\n",
    "    length = [len(indexed)]                                    # compute no. of words\n",
    "    t = torch.LongTensor(indexed).to(device)                   # convert to tensor\n",
    "    t = t.unsqueeze(1).T                                       # reshape in form of batch,no. of words\n",
    "    length_tensor = torch.LongTensor(length)                   # convert to tensor\n",
    "    prediction = model(t, length_tensor)                       # prediction \n",
    "    return prediction.item()               "
   ]
  },
  {
   "cell_type": "code",
   "execution_count": 111,
   "metadata": {},
   "outputs": [],
   "source": [
    "twitter = pd.read_json(\"sarcasm_detection_shared_task_twitter_testing.jsonl\", lines=True)\n",
    "input_labels = [ 1 if x!='SARCASM' else 0 for x in twitter.label ]"
   ]
  },
  {
   "cell_type": "code",
   "execution_count": 112,
   "metadata": {},
   "outputs": [],
   "source": [
    "outs=[]\n",
    "for s in twitter.response:\n",
    "    outs.append(round(predict(model,s)))"
   ]
  },
  {
   "cell_type": "code",
   "execution_count": 115,
   "metadata": {},
   "outputs": [
    {
     "output_type": "execute_result",
     "data": {
      "text/plain": [
       "0.6889510489510489"
      ]
     },
     "metadata": {},
     "execution_count": 115
    }
   ],
   "source": [
    "from sklearn.metrics import f1_score\n",
    "f1 = f1_score(input_labels, outs, average='macro')\n",
    "f1"
   ]
  },
  {
   "cell_type": "code",
   "execution_count": 117,
   "metadata": {},
   "outputs": [
    {
     "output_type": "stream",
     "name": "stdout",
     "text": [
      "Precision: 0.7293333333333333\nRecall: 0.6077777777777778\n0.6889510489510489\n"
     ]
    }
   ],
   "source": [
    "from sklearn import metrics\n",
    "print(\"Precision:\",metrics.precision_score(input_labels, outs))\n",
    "precision =metrics.precision_score(input_labels, outs)\n",
    "\n",
    "# Model Recall: what perce\n",
    "# ntage of positive tuples are labelled as such?\n",
    "print(\"Recall:\",metrics.recall_score(input_labels, outs))\n",
    "recall = metrics.recall_score(input_labels, outs)\n",
    "\n",
    "print(f1_score(input_labels, outs, average='macro'))"
   ]
  },
  {
   "cell_type": "code",
   "execution_count": null,
   "metadata": {},
   "outputs": [],
   "source": []
  }
 ]
}